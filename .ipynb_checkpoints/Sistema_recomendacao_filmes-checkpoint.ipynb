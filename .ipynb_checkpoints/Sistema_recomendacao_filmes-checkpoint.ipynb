{
 "cells": [
  {
   "cell_type": "markdown",
   "id": "0b0cfc34",
   "metadata": {},
   "source": [
    "<h1 style='color: #c52b10; font-size: 34px; font-weight: bold;'>Sistema de Recomendação de Filmes\n",
    "\n",
    "</h1>\n"
   ]
  },
  {
   "cell_type": "markdown",
   "id": "39bc91d6",
   "metadata": {},
   "source": [
    "# <font color=\"#10c586\" style=\"font-size: 30px;\">Objetivo</font>\n",
    "<hr style=\"border: 2px solid #10c586;\">"
   ]
  },
  {
   "cell_type": "markdown",
   "id": "b552786c",
   "metadata": {},
   "source": [
    " <p style='font-size: 23px; line-height: 2; margin: 0px 0px; text-align: justify; text-indent: 0px;'>    \n",
    "<i><b> Desenvolver um sistema de recomendação de filmes com base em características como gênero, palavras-chave, popularidade e classificação média, etc. </b></i>     \n",
    "</p>\n",
    "\n",
    "---"
   ]
  },
  {
   "cell_type": "markdown",
   "id": "5e146c10",
   "metadata": {},
   "source": [
    "# <font color=\"#10c586\" style=\"font-size: 30px;\">Roteiro</font>\n",
    "<hr style=\"border: 2px solid #10c586;\">"
   ]
  },
  {
   "cell_type": "markdown",
   "id": "671fae98",
   "metadata": {},
   "source": [
    "<h1 style='color: black; font-size:22px; font-weight: bold;'> 1. Pré-processamento de dados\n",
    "</h1>\n",
    "\n",
    "---\n",
    "\n",
    "<h1 style='color: black; font-size: 22px; font-weight: bold;'>2. Análise exploratória de dados\n",
    "\n",
    "</h1>\n",
    "\n",
    "---\n",
    "\n",
    "<h1 style='color: black; font-size: 22px; font-weight: bold;'> \n",
    "3. Modelagem de dados\n",
    "</h1>\n",
    "\n",
    "---\n",
    "\n",
    "<h1 style='color: black; font-size: 22px; font-weight: bold;'> \n",
    "4. Comunicação de Resultados\n",
    "</h1>\n",
    "\n",
    "---\n"
   ]
  },
  {
   "cell_type": "markdown",
   "id": "3af08b61",
   "metadata": {},
   "source": [
    "# <font color=\"#10c586\" style=\"font-size: 30px;\">1. Pré-processamento de dados</font>\n",
    "<hr style=\"border: 2px solid #10c586;\">"
   ]
  },
  {
   "cell_type": "code",
   "execution_count": 132,
   "id": "6ebf2331",
   "metadata": {},
   "outputs": [],
   "source": [
    "# IMPORTANDO BIBLIOTECAS\n",
    "\n",
    "import pandas as pd\n",
    "import numpy as np\n",
    "import seaborn as sns\n",
    "import matplotlib.pyplot as plt\n",
    "from sklearn.model_selection import train_test_split\n",
    "from sklearn.linear_model import LinearRegression\n",
    "from sklearn.metrics import mean_absolute_error, mean_squared_error, r2_score\n",
    "from sklearn.tree import DecisionTreeRegressor"
   ]
  },
  {
   "cell_type": "code",
   "execution_count": 133,
   "id": "55d8bb5d",
   "metadata": {},
   "outputs": [
    {
     "data": {
      "text/plain": [
       "Index(['budget', 'genres', 'homepage', 'id', 'keywords', 'original_language',\n",
       "       'original_title', 'overview', 'popularity', 'production_companies',\n",
       "       'production_countries', 'release_date', 'revenue', 'runtime',\n",
       "       'spoken_languages', 'status', 'tagline', 'title', 'vote_average',\n",
       "       'vote_count'],\n",
       "      dtype='object')"
      ]
     },
     "execution_count": 133,
     "metadata": {},
     "output_type": "execute_result"
    }
   ],
   "source": [
    "# IMPORTANDO BASE DE DADOS\n",
    "\n",
    "df = pd.read_csv('tmdb_5000_movies.csv')\n",
    "\n",
    "df.columns"
   ]
  },
  {
   "cell_type": "code",
   "execution_count": 134,
   "id": "4e626350",
   "metadata": {},
   "outputs": [
    {
     "data": {
      "text/html": [
       "<div>\n",
       "<style scoped>\n",
       "    .dataframe tbody tr th:only-of-type {\n",
       "        vertical-align: middle;\n",
       "    }\n",
       "\n",
       "    .dataframe tbody tr th {\n",
       "        vertical-align: top;\n",
       "    }\n",
       "\n",
       "    .dataframe thead th {\n",
       "        text-align: right;\n",
       "    }\n",
       "</style>\n",
       "<table border=\"1\" class=\"dataframe\">\n",
       "  <thead>\n",
       "    <tr style=\"text-align: right;\">\n",
       "      <th></th>\n",
       "      <th>Orcamento</th>\n",
       "      <th>Gêneros</th>\n",
       "      <th>Página inicial</th>\n",
       "      <th>ID</th>\n",
       "      <th>Palavras-chave</th>\n",
       "      <th>Idioma original</th>\n",
       "      <th>Título original</th>\n",
       "      <th>Visão geral</th>\n",
       "      <th>Popularidade</th>\n",
       "      <th>Empresas de produção</th>\n",
       "      <th>Países de produção</th>\n",
       "      <th>Data de lançamento</th>\n",
       "      <th>Receita</th>\n",
       "      <th>Duração</th>\n",
       "      <th>Idiomas falados</th>\n",
       "      <th>Status</th>\n",
       "      <th>Slogan</th>\n",
       "      <th>Título</th>\n",
       "      <th>Media_de_votos</th>\n",
       "      <th>Contagem_de_votos</th>\n",
       "    </tr>\n",
       "  </thead>\n",
       "  <tbody>\n",
       "    <tr>\n",
       "      <th>0</th>\n",
       "      <td>237000000</td>\n",
       "      <td>[{\"id\": 28, \"name\": \"Action\"}, {\"id\": 12, \"nam...</td>\n",
       "      <td>http://www.avatarmovie.com/</td>\n",
       "      <td>19995</td>\n",
       "      <td>[{\"id\": 1463, \"name\": \"culture clash\"}, {\"id\":...</td>\n",
       "      <td>en</td>\n",
       "      <td>Avatar</td>\n",
       "      <td>In the 22nd century, a paraplegic Marine is di...</td>\n",
       "      <td>150.437577</td>\n",
       "      <td>[{\"name\": \"Ingenious Film Partners\", \"id\": 289...</td>\n",
       "      <td>[{\"iso_3166_1\": \"US\", \"name\": \"United States o...</td>\n",
       "      <td>2009-12-10</td>\n",
       "      <td>2787965087</td>\n",
       "      <td>162.0</td>\n",
       "      <td>[{\"iso_639_1\": \"en\", \"name\": \"English\"}, {\"iso...</td>\n",
       "      <td>Released</td>\n",
       "      <td>Enter the World of Pandora.</td>\n",
       "      <td>Avatar</td>\n",
       "      <td>7.2</td>\n",
       "      <td>11800</td>\n",
       "    </tr>\n",
       "    <tr>\n",
       "      <th>1</th>\n",
       "      <td>300000000</td>\n",
       "      <td>[{\"id\": 12, \"name\": \"Adventure\"}, {\"id\": 14, \"...</td>\n",
       "      <td>http://disney.go.com/disneypictures/pirates/</td>\n",
       "      <td>285</td>\n",
       "      <td>[{\"id\": 270, \"name\": \"ocean\"}, {\"id\": 726, \"na...</td>\n",
       "      <td>en</td>\n",
       "      <td>Pirates of the Caribbean: At World's End</td>\n",
       "      <td>Captain Barbossa, long believed to be dead, ha...</td>\n",
       "      <td>139.082615</td>\n",
       "      <td>[{\"name\": \"Walt Disney Pictures\", \"id\": 2}, {\"...</td>\n",
       "      <td>[{\"iso_3166_1\": \"US\", \"name\": \"United States o...</td>\n",
       "      <td>2007-05-19</td>\n",
       "      <td>961000000</td>\n",
       "      <td>169.0</td>\n",
       "      <td>[{\"iso_639_1\": \"en\", \"name\": \"English\"}]</td>\n",
       "      <td>Released</td>\n",
       "      <td>At the end of the world, the adventure begins.</td>\n",
       "      <td>Pirates of the Caribbean: At World's End</td>\n",
       "      <td>6.9</td>\n",
       "      <td>4500</td>\n",
       "    </tr>\n",
       "  </tbody>\n",
       "</table>\n",
       "</div>"
      ],
      "text/plain": [
       "   Orcamento                                            Gêneros  \\\n",
       "0  237000000  [{\"id\": 28, \"name\": \"Action\"}, {\"id\": 12, \"nam...   \n",
       "1  300000000  [{\"id\": 12, \"name\": \"Adventure\"}, {\"id\": 14, \"...   \n",
       "\n",
       "                                 Página inicial     ID  \\\n",
       "0                   http://www.avatarmovie.com/  19995   \n",
       "1  http://disney.go.com/disneypictures/pirates/    285   \n",
       "\n",
       "                                      Palavras-chave Idioma original  \\\n",
       "0  [{\"id\": 1463, \"name\": \"culture clash\"}, {\"id\":...              en   \n",
       "1  [{\"id\": 270, \"name\": \"ocean\"}, {\"id\": 726, \"na...              en   \n",
       "\n",
       "                            Título original  \\\n",
       "0                                    Avatar   \n",
       "1  Pirates of the Caribbean: At World's End   \n",
       "\n",
       "                                         Visão geral  Popularidade  \\\n",
       "0  In the 22nd century, a paraplegic Marine is di...    150.437577   \n",
       "1  Captain Barbossa, long believed to be dead, ha...    139.082615   \n",
       "\n",
       "                                Empresas de produção  \\\n",
       "0  [{\"name\": \"Ingenious Film Partners\", \"id\": 289...   \n",
       "1  [{\"name\": \"Walt Disney Pictures\", \"id\": 2}, {\"...   \n",
       "\n",
       "                                  Países de produção Data de lançamento  \\\n",
       "0  [{\"iso_3166_1\": \"US\", \"name\": \"United States o...         2009-12-10   \n",
       "1  [{\"iso_3166_1\": \"US\", \"name\": \"United States o...         2007-05-19   \n",
       "\n",
       "      Receita  Duração                                    Idiomas falados  \\\n",
       "0  2787965087    162.0  [{\"iso_639_1\": \"en\", \"name\": \"English\"}, {\"iso...   \n",
       "1   961000000    169.0           [{\"iso_639_1\": \"en\", \"name\": \"English\"}]   \n",
       "\n",
       "     Status                                          Slogan  \\\n",
       "0  Released                     Enter the World of Pandora.   \n",
       "1  Released  At the end of the world, the adventure begins.   \n",
       "\n",
       "                                     Título  Media_de_votos  Contagem_de_votos  \n",
       "0                                    Avatar             7.2              11800  \n",
       "1  Pirates of the Caribbean: At World's End             6.9               4500  "
      ]
     },
     "execution_count": 134,
     "metadata": {},
     "output_type": "execute_result"
    }
   ],
   "source": [
    "# RENOMEANDO AS COLUNAS\n",
    "\n",
    "traducao = {\n",
    "    'budget': 'Orcamento',\n",
    "    'genres': 'Gêneros',\n",
    "    'homepage': 'Página inicial',\n",
    "    'id': 'ID',\n",
    "    'keywords': 'Palavras-chave',\n",
    "    'original_language': 'Idioma original',\n",
    "    'original_title': 'Título original',\n",
    "    'overview': 'Visão geral',\n",
    "    'popularity': 'Popularidade',\n",
    "    'production_companies': 'Empresas de produção',\n",
    "    'production_countries': 'Países de produção',\n",
    "    'release_date': 'Data de lançamento',\n",
    "    'revenue': 'Receita',\n",
    "    'runtime': 'Duração',\n",
    "    'spoken_languages': 'Idiomas falados',\n",
    "    'status': 'Status',\n",
    "    'tagline': 'Slogan',\n",
    "    'title': 'Título',\n",
    "    'vote_average': 'Media_de_votos',\n",
    "    'vote_count': 'Contagem_de_votos'\n",
    "}\n",
    "\n",
    "df = df.rename(columns=traducao)\n",
    "df.head(2)"
   ]
  },
  {
   "cell_type": "markdown",
   "id": "858f1f1a",
   "metadata": {},
   "source": [
    "---\n",
    "## <font color=#c5106e style=\"font-size: 30px;\">Transformar coluna de Data de lançamento em datetime</font>\n",
    "\n",
    "---"
   ]
  },
  {
   "cell_type": "code",
   "execution_count": 135,
   "id": "b3479645",
   "metadata": {},
   "outputs": [
    {
     "data": {
      "text/plain": [
       "str"
      ]
     },
     "metadata": {},
     "output_type": "display_data"
    },
    {
     "data": {
      "text/plain": [
       "pandas._libs.tslibs.timestamps.Timestamp"
      ]
     },
     "metadata": {},
     "output_type": "display_data"
    }
   ],
   "source": [
    "# DANDO UMA OLHADA NA COLUNA DE LANÇAMENTOS\n",
    "\n",
    "display(type(df['Data de lançamento'][0]))\n",
    "\n",
    "#Converter representação de data em formato de string para um objeto de data no Python\n",
    " \n",
    "from datetime import datetime\n",
    "\n",
    "df['Data de lançamento'] = pd.to_datetime(df['Data de lançamento']) \n",
    "\n",
    "display(type(df['Data de lançamento'][0]))"
   ]
  },
  {
   "cell_type": "markdown",
   "id": "235c9e0c",
   "metadata": {},
   "source": [
    "---\n",
    "## <font color=#c5106e style=\"font-size: 30px;\">Conformar a coluna de Gêneros para a forma que queremos</font>\n",
    "\n",
    "---"
   ]
  },
  {
   "cell_type": "code",
   "execution_count": 136,
   "id": "c229d963",
   "metadata": {
    "scrolled": false
   },
   "outputs": [],
   "source": [
    "nomes = df['Título original']\n",
    "nomes = list(nomes)\n",
    "\n",
    "generos = df['Gêneros']\n",
    "generos = list(generos)\n",
    "\n",
    "\n",
    "import json\n",
    "\n",
    "# Lista de filmes\n",
    "lista_filmes = nomes\n",
    "\n",
    "# Lista de gêneros cinematográficos\n",
    "lista_generos = generos\n",
    "\n",
    "# Função para extrair os nomes dos gêneros de uma string em formato JSON\n",
    "def extrair_generos(generos_str):\n",
    "    generos_json = json.loads(generos_str)\n",
    "    return [genero['name'] for genero in generos_json]\n",
    "\n",
    "# Lista de gêneros cinematográficos para cada filme\n",
    "\n",
    "lista_generos_filmes = [extrair_generos(generos_str) for generos_str in lista_generos]\n",
    "df['Gêneros'] = lista_generos_filmes"
   ]
  },
  {
   "cell_type": "markdown",
   "id": "86a4bb35",
   "metadata": {},
   "source": [
    "```python\n",
    "# Transforma a lista de listas em uma lista simples\n",
    "lista_simples = [item for sublist in lista_generos_filmes for item in sublist]\n",
    "\n",
    "# Obtém os valores únicos da lista\n",
    "valores_unicos = set(lista_simples)\n",
    "\n",
    "df['Gêneros'] = lista_simples[:4803]\n",
    "```"
   ]
  },
  {
   "cell_type": "markdown",
   "id": "13d3eebd",
   "metadata": {},
   "source": [
    "---\n",
    "## <font color=#c5106e style=\"font-size: 30px;\">Removendo Dados inconsistentes</font>\n",
    "\n",
    "---"
   ]
  },
  {
   "cell_type": "code",
   "execution_count": 137,
   "id": "9e40598a",
   "metadata": {},
   "outputs": [
    {
     "data": {
      "text/html": [
       "<div>\n",
       "<style scoped>\n",
       "    .dataframe tbody tr th:only-of-type {\n",
       "        vertical-align: middle;\n",
       "    }\n",
       "\n",
       "    .dataframe tbody tr th {\n",
       "        vertical-align: top;\n",
       "    }\n",
       "\n",
       "    .dataframe thead th {\n",
       "        text-align: right;\n",
       "    }\n",
       "</style>\n",
       "<table border=\"1\" class=\"dataframe\">\n",
       "  <thead>\n",
       "    <tr style=\"text-align: right;\">\n",
       "      <th></th>\n",
       "      <th>Orcamento</th>\n",
       "      <th>ID</th>\n",
       "      <th>Popularidade</th>\n",
       "      <th>Receita</th>\n",
       "      <th>Duração</th>\n",
       "      <th>Media_de_votos</th>\n",
       "      <th>Contagem_de_votos</th>\n",
       "    </tr>\n",
       "  </thead>\n",
       "  <tbody>\n",
       "    <tr>\n",
       "      <th>count</th>\n",
       "      <td>4.803000e+03</td>\n",
       "      <td>4803.000000</td>\n",
       "      <td>4803.000000</td>\n",
       "      <td>4.803000e+03</td>\n",
       "      <td>4801.000000</td>\n",
       "      <td>4803.000000</td>\n",
       "      <td>4803.000000</td>\n",
       "    </tr>\n",
       "    <tr>\n",
       "      <th>mean</th>\n",
       "      <td>2.904504e+07</td>\n",
       "      <td>57165.484281</td>\n",
       "      <td>21.492301</td>\n",
       "      <td>8.226064e+07</td>\n",
       "      <td>106.875859</td>\n",
       "      <td>6.092172</td>\n",
       "      <td>690.217989</td>\n",
       "    </tr>\n",
       "    <tr>\n",
       "      <th>std</th>\n",
       "      <td>4.072239e+07</td>\n",
       "      <td>88694.614033</td>\n",
       "      <td>31.816650</td>\n",
       "      <td>1.628571e+08</td>\n",
       "      <td>22.611935</td>\n",
       "      <td>1.194612</td>\n",
       "      <td>1234.585891</td>\n",
       "    </tr>\n",
       "    <tr>\n",
       "      <th>min</th>\n",
       "      <td>0.000000e+00</td>\n",
       "      <td>5.000000</td>\n",
       "      <td>0.000000</td>\n",
       "      <td>0.000000e+00</td>\n",
       "      <td>0.000000</td>\n",
       "      <td>0.000000</td>\n",
       "      <td>0.000000</td>\n",
       "    </tr>\n",
       "    <tr>\n",
       "      <th>25%</th>\n",
       "      <td>7.900000e+05</td>\n",
       "      <td>9014.500000</td>\n",
       "      <td>4.668070</td>\n",
       "      <td>0.000000e+00</td>\n",
       "      <td>94.000000</td>\n",
       "      <td>5.600000</td>\n",
       "      <td>54.000000</td>\n",
       "    </tr>\n",
       "    <tr>\n",
       "      <th>50%</th>\n",
       "      <td>1.500000e+07</td>\n",
       "      <td>14629.000000</td>\n",
       "      <td>12.921594</td>\n",
       "      <td>1.917000e+07</td>\n",
       "      <td>103.000000</td>\n",
       "      <td>6.200000</td>\n",
       "      <td>235.000000</td>\n",
       "    </tr>\n",
       "    <tr>\n",
       "      <th>75%</th>\n",
       "      <td>4.000000e+07</td>\n",
       "      <td>58610.500000</td>\n",
       "      <td>28.313505</td>\n",
       "      <td>9.291719e+07</td>\n",
       "      <td>118.000000</td>\n",
       "      <td>6.800000</td>\n",
       "      <td>737.000000</td>\n",
       "    </tr>\n",
       "    <tr>\n",
       "      <th>max</th>\n",
       "      <td>3.800000e+08</td>\n",
       "      <td>459488.000000</td>\n",
       "      <td>875.581305</td>\n",
       "      <td>2.787965e+09</td>\n",
       "      <td>338.000000</td>\n",
       "      <td>10.000000</td>\n",
       "      <td>13752.000000</td>\n",
       "    </tr>\n",
       "  </tbody>\n",
       "</table>\n",
       "</div>"
      ],
      "text/plain": [
       "          Orcamento             ID  Popularidade       Receita      Duração  \\\n",
       "count  4.803000e+03    4803.000000   4803.000000  4.803000e+03  4801.000000   \n",
       "mean   2.904504e+07   57165.484281     21.492301  8.226064e+07   106.875859   \n",
       "std    4.072239e+07   88694.614033     31.816650  1.628571e+08    22.611935   \n",
       "min    0.000000e+00       5.000000      0.000000  0.000000e+00     0.000000   \n",
       "25%    7.900000e+05    9014.500000      4.668070  0.000000e+00    94.000000   \n",
       "50%    1.500000e+07   14629.000000     12.921594  1.917000e+07   103.000000   \n",
       "75%    4.000000e+07   58610.500000     28.313505  9.291719e+07   118.000000   \n",
       "max    3.800000e+08  459488.000000    875.581305  2.787965e+09   338.000000   \n",
       "\n",
       "       Media_de_votos  Contagem_de_votos  \n",
       "count     4803.000000        4803.000000  \n",
       "mean         6.092172         690.217989  \n",
       "std          1.194612        1234.585891  \n",
       "min          0.000000           0.000000  \n",
       "25%          5.600000          54.000000  \n",
       "50%          6.200000         235.000000  \n",
       "75%          6.800000         737.000000  \n",
       "max         10.000000       13752.000000  "
      ]
     },
     "execution_count": 137,
     "metadata": {},
     "output_type": "execute_result"
    }
   ],
   "source": [
    "df.describe()"
   ]
  },
  {
   "cell_type": "markdown",
   "id": "f7f7851e",
   "metadata": {},
   "source": [
    "---\n",
    "## <font color=#c5106e style=\"font-size: 30px;\">Não vamos querer nenhum filme com:</font>\n",
    "---\n",
    "\n",
    "*  <font color=#c5106e style=\"font-size: 28px;\">Orçamento Zero</font>\n",
    "\n",
    "---\n",
    "\n",
    "* <font color=#c5106e style=\"font-size: 28px;\">Receita Zero</font>\n",
    "---\n",
    "\n",
    "* <font color=#c5106e style=\"font-size: 28px;\">Duração Zero</font>\n",
    "---\n",
    "\n",
    "* <font color=#c5106e style=\"font-size: 28px;\">Média de votos Zero</font>\n",
    "---\n",
    "\n",
    "* <font color=#c5106e style=\"font-size: 28px;\">Contagem de votos Zero</font>\n",
    "\n",
    "---"
   ]
  },
  {
   "cell_type": "code",
   "execution_count": 138,
   "id": "1b1ae83d",
   "metadata": {},
   "outputs": [],
   "source": [
    "df = df.query('Orcamento > 0 and Receita > 0 and Duração > 0 and Media_de_votos > 0 and Contagem_de_votos > 0')"
   ]
  },
  {
   "cell_type": "markdown",
   "id": "b0964129",
   "metadata": {},
   "source": [
    "---\n",
    "## <font color=#c5106e style=\"font-size: 30px;\">Mais de 75% dos filmes tem mais de 100 votos. Vamos filtrar</font>\n",
    "---"
   ]
  },
  {
   "cell_type": "code",
   "execution_count": 140,
   "id": "c416b17f",
   "metadata": {},
   "outputs": [],
   "source": [
    "df = df.query('Contagem_de_votos >= 100') # para assim só termos filmes com estatísticas relevantes de nota "
   ]
  },
  {
   "cell_type": "code",
   "execution_count": null,
   "id": "8b0123ef",
   "metadata": {},
   "outputs": [],
   "source": []
  }
 ],
 "metadata": {
  "kernelspec": {
   "display_name": "Python 3 (ipykernel)",
   "language": "python",
   "name": "python3"
  },
  "language_info": {
   "codemirror_mode": {
    "name": "ipython",
    "version": 3
   },
   "file_extension": ".py",
   "mimetype": "text/x-python",
   "name": "python",
   "nbconvert_exporter": "python",
   "pygments_lexer": "ipython3",
   "version": "3.10.9"
  }
 },
 "nbformat": 4,
 "nbformat_minor": 5
}
